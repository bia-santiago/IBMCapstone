{
    "cells": [
        {
            "cell_type": "markdown",
            "metadata": {},
            "source": "<center>\n    <img src=\"https://gitlab.com/ibm/skills-network/courses/placeholder101/-/raw/master/labs/module%201/images/IDSNlogo.png\" width=\"300\" alt=\"cognitiveclass.ai logo\"  />\n</center>\n"
        },
        {
            "cell_type": "markdown",
            "metadata": {},
            "source": "# **Space X  Falcon 9 First Stage Landing Prediction**\n"
        },
        {
            "cell_type": "markdown",
            "metadata": {},
            "source": "## Web scraping Falcon 9 and Falcon Heavy Launches Records from Wikipedia\n"
        },
        {
            "cell_type": "markdown",
            "metadata": {},
            "source": "Estimated time needed: **40** minutes\n"
        },
        {
            "cell_type": "markdown",
            "metadata": {},
            "source": "In this lab, you will be performing web scraping to collect Falcon 9 historical launch records from a Wikipedia page titled `List of Falcon 9 and Falcon Heavy launches`\n\n[https://en.wikipedia.org/wiki/List_of_Falcon\\_9\\_and_Falcon_Heavy_launches](https://en.wikipedia.org/wiki/List_of_Falcon\\_9\\_and_Falcon_Heavy_launches?utm_medium=Exinfluencer&utm_source=Exinfluencer&utm_content=000026UJ&utm_term=10006555&utm_id=NA-SkillsNetwork-Channel-SkillsNetworkCoursesIBMDS0321ENSkillsNetwork26802033-2021-01-01)\n"
        },
        {
            "cell_type": "markdown",
            "metadata": {},
            "source": "![](https://cf-courses-data.s3.us.cloud-object-storage.appdomain.cloud/IBM-DS0321EN-SkillsNetwork/labs/module\\_1\\_L2/images/Falcon9\\_rocket_family.svg)\n"
        },
        {
            "cell_type": "markdown",
            "metadata": {},
            "source": "Falcon 9 first stage will land successfully\n"
        },
        {
            "cell_type": "markdown",
            "metadata": {},
            "source": "![](https://cf-courses-data.s3.us.cloud-object-storage.appdomain.cloud/IBMDeveloperSkillsNetwork-DS0701EN-SkillsNetwork/api/Images/landing\\_1.gif)\n"
        },
        {
            "cell_type": "markdown",
            "metadata": {},
            "source": "Several examples of an unsuccessful landing are shown here:\n"
        },
        {
            "cell_type": "markdown",
            "metadata": {},
            "source": "![](https://cf-courses-data.s3.us.cloud-object-storage.appdomain.cloud/IBMDeveloperSkillsNetwork-DS0701EN-SkillsNetwork/api/Images/crash.gif)\n"
        },
        {
            "cell_type": "markdown",
            "metadata": {},
            "source": "More specifically, the launch records are stored in a HTML table shown below:\n"
        },
        {
            "cell_type": "markdown",
            "metadata": {},
            "source": "![](https://cf-courses-data.s3.us.cloud-object-storage.appdomain.cloud/IBM-DS0321EN-SkillsNetwork/labs/module\\_1\\_L2/images/falcon9-launches-wiki.png)\n"
        },
        {
            "cell_type": "markdown",
            "metadata": {},
            "source": "## Objectives\n\nWeb scrap Falcon 9 launch records with `BeautifulSoup`:\n\n*   Extract a Falcon 9 launch records HTML table from Wikipedia\n*   Parse the table and convert it into a Pandas data frame\n"
        },
        {
            "cell_type": "markdown",
            "metadata": {},
            "source": "First let's import required packages for this lab\n"
        },
        {
            "cell_type": "code",
            "execution_count": 1,
            "metadata": {},
            "outputs": [
                {
                    "name": "stdout",
                    "output_type": "stream",
                    "text": "Requirement already satisfied: beautifulsoup4 in /opt/conda/envs/Python-3.9/lib/python3.9/site-packages (4.10.0)\nRequirement already satisfied: soupsieve>1.2 in /opt/conda/envs/Python-3.9/lib/python3.9/site-packages (from beautifulsoup4) (2.3.1)\nRequirement already satisfied: requests in /opt/conda/envs/Python-3.9/lib/python3.9/site-packages (2.26.0)\nRequirement already satisfied: idna<4,>=2.5 in /opt/conda/envs/Python-3.9/lib/python3.9/site-packages (from requests) (3.3)\nRequirement already satisfied: charset-normalizer~=2.0.0 in /opt/conda/envs/Python-3.9/lib/python3.9/site-packages (from requests) (2.0.4)\nRequirement already satisfied: certifi>=2017.4.17 in /opt/conda/envs/Python-3.9/lib/python3.9/site-packages (from requests) (2021.10.8)\nRequirement already satisfied: urllib3<1.27,>=1.21.1 in /opt/conda/envs/Python-3.9/lib/python3.9/site-packages (from requests) (1.26.7)\n"
                }
            ],
            "source": "!pip3 install beautifulsoup4\n!pip3 install requests"
        },
        {
            "cell_type": "code",
            "execution_count": 2,
            "metadata": {},
            "outputs": [],
            "source": "import sys\n\nimport requests\nfrom bs4 import BeautifulSoup\nimport re\nimport unicodedata\nimport pandas as pd"
        },
        {
            "cell_type": "markdown",
            "metadata": {},
            "source": "and we will provide some helper functions for you to process web scraped HTML table\n"
        },
        {
            "cell_type": "code",
            "execution_count": 3,
            "metadata": {},
            "outputs": [],
            "source": "def date_time(table_cells):\n    \"\"\"\n    This function returns the data and time from the HTML  table cell\n    Input: the  element of a table data cell extracts extra row\n    \"\"\"\n    return [data_time.strip() for data_time in list(table_cells.strings)][0:2]\n\ndef booster_version(table_cells):\n    \"\"\"\n    This function returns the booster version from the HTML  table cell \n    Input: the  element of a table data cell extracts extra row\n    \"\"\"\n    out=''.join([booster_version for i,booster_version in enumerate( table_cells.strings) if i%2==0][0:-1])\n    return out\n\ndef landing_status(table_cells):\n    \"\"\"\n    This function returns the landing status from the HTML table cell \n    Input: the  element of a table data cell extracts extra row\n    \"\"\"\n    out=[i for i in table_cells.strings][0]\n    return out\n\n\ndef get_mass(table_cells):\n    mass=unicodedata.normalize(\"NFKD\", table_cells.text).strip()\n    if mass:\n        mass.find(\"kg\")\n        new_mass=mass[0:mass.find(\"kg\")+2]\n    else:\n        new_mass=0\n    return new_mass\n\n\ndef extract_column_from_header(row):\n    \"\"\"\n    This function returns the landing status from the HTML table cell \n    Input: the  element of a table data cell extracts extra row\n    \"\"\"\n    if (row.br):\n        row.br.extract()\n    if row.a:\n        row.a.extract()\n    if row.sup:\n        row.sup.extract()\n        \n    colunm_name = ' '.join(row.contents)\n    \n    # Filter the digit and empty names\n    if not(colunm_name.strip().isdigit()):\n        colunm_name = colunm_name.strip()\n        return colunm_name    \n"
        },
        {
            "cell_type": "markdown",
            "metadata": {},
            "source": "To keep the lab tasks consistent, you will be asked to scrape the data from a snapshot of the  `List of Falcon 9 and Falcon Heavy launches` Wikipage updated on\n`9th June 2021`\n"
        },
        {
            "cell_type": "code",
            "execution_count": 4,
            "metadata": {},
            "outputs": [],
            "source": "static_url = \"https://en.wikipedia.org/w/index.php?title=List_of_Falcon_9_and_Falcon_Heavy_launches&oldid=1027686922\""
        },
        {
            "cell_type": "markdown",
            "metadata": {},
            "source": "Next, request the HTML page from the above URL and get a `response` object\n"
        },
        {
            "cell_type": "markdown",
            "metadata": {},
            "source": "### TASK 1: Request the Falcon9 Launch Wiki page from its URL\n"
        },
        {
            "cell_type": "markdown",
            "metadata": {},
            "source": "First, let's perform an HTTP GET method to request the Falcon9 Launch HTML page, as an HTTP response.\n"
        },
        {
            "cell_type": "code",
            "execution_count": 5,
            "metadata": {},
            "outputs": [],
            "source": "# use requests.get() method with the provided static_url\nresponse = requests.get(static_url)\n# assign the response to a object\nhtml_data  = response.text"
        },
        {
            "cell_type": "markdown",
            "metadata": {},
            "source": "Create a `BeautifulSoup` object from the HTML `response`\n"
        },
        {
            "cell_type": "code",
            "execution_count": 6,
            "metadata": {},
            "outputs": [],
            "source": "# Use BeautifulSoup() to create a BeautifulSoup object from a response text content\nsoup = BeautifulSoup(html_data, 'html5lib')"
        },
        {
            "cell_type": "markdown",
            "metadata": {},
            "source": "Print the page title to verify if the `BeautifulSoup` object was created properly\n"
        },
        {
            "cell_type": "code",
            "execution_count": 7,
            "metadata": {},
            "outputs": [
                {
                    "data": {
                        "text/plain": "<title>List of Falcon 9 and Falcon Heavy launches - Wikipedia</title>"
                    },
                    "execution_count": 7,
                    "metadata": {},
                    "output_type": "execute_result"
                }
            ],
            "source": "# Use soup.title attribute\nsoup.title"
        },
        {
            "cell_type": "markdown",
            "metadata": {},
            "source": "### TASK 2: Extract all column/variable names from the HTML table header\n"
        },
        {
            "cell_type": "markdown",
            "metadata": {},
            "source": "Next, we want to collect all relevant column names from the HTML table header\n"
        },
        {
            "cell_type": "markdown",
            "metadata": {},
            "source": "Let's try to find all tables on the wiki page first. If you need to refresh your memory about `BeautifulSoup`, please check the external reference link towards the end of this lab\n"
        },
        {
            "cell_type": "code",
            "execution_count": 8,
            "metadata": {},
            "outputs": [],
            "source": "# Use the find_all function in the BeautifulSoup object, with element type `table`\n# Assign the result to a list called `html_tables`\nhtml_tables = soup.find_all('tr')"
        },
        {
            "cell_type": "markdown",
            "metadata": {},
            "source": "Starting from the third table is our target table contains the actual launch records.\n"
        },
        {
            "cell_type": "code",
            "execution_count": 9,
            "metadata": {},
            "outputs": [
                {
                    "name": "stdout",
                    "output_type": "stream",
                    "text": "<tr>\n<th scope=\"col\">Flight No.\n</th>\n<th scope=\"col\">Date and<br/>time (<a href=\"/wiki/Coordinated_Universal_Time\" title=\"Coordinated Universal Time\">UTC</a>)\n</th>\n<th scope=\"col\"><a href=\"/wiki/List_of_Falcon_9_first-stage_boosters\" title=\"List of Falcon 9 first-stage boosters\">Version,<br/>Booster</a> <sup class=\"reference\" id=\"cite_ref-booster_11-0\"><a href=\"#cite_note-booster-11\">[b]</a></sup>\n</th>\n<th scope=\"col\">Launch site\n</th>\n<th scope=\"col\">Payload<sup class=\"reference\" id=\"cite_ref-Dragon_12-0\"><a href=\"#cite_note-Dragon-12\">[c]</a></sup>\n</th>\n<th scope=\"col\">Payload mass\n</th>\n<th scope=\"col\">Orbit\n</th>\n<th scope=\"col\">Customer\n</th>\n<th scope=\"col\">Launch<br/>outcome\n</th>\n<th scope=\"col\"><a href=\"/wiki/Falcon_9_first-stage_landing_tests\" title=\"Falcon 9 first-stage landing tests\">Booster<br/>landing</a>\n</th></tr>\n"
                }
            ],
            "source": "# Let's print the third table and check its content\nfirst_launch_table = html_tables[2]\nprint(first_launch_table)"
        },
        {
            "cell_type": "markdown",
            "metadata": {},
            "source": "You should able to see the columns names embedded in the table header elements `<th>` as follows:\n"
        },
        {
            "cell_type": "markdown",
            "metadata": {},
            "source": "```\n<tr>\n<th scope=\"col\">Flight No.\n</th>\n<th scope=\"col\">Date and<br/>time (<a href=\"/wiki/Coordinated_Universal_Time\" title=\"Coordinated Universal Time\">UTC</a>)\n</th>\n<th scope=\"col\"><a href=\"/wiki/List_of_Falcon_9_first-stage_boosters\" title=\"List of Falcon 9 first-stage boosters\">Version,<br/>Booster</a> <sup class=\"reference\" id=\"cite_ref-booster_11-0\"><a href=\"#cite_note-booster-11\">[b]</a></sup>\n</th>\n<th scope=\"col\">Launch site\n</th>\n<th scope=\"col\">Payload<sup class=\"reference\" id=\"cite_ref-Dragon_12-0\"><a href=\"#cite_note-Dragon-12\">[c]</a></sup>\n</th>\n<th scope=\"col\">Payload mass\n</th>\n<th scope=\"col\">Orbit\n</th>\n<th scope=\"col\">Customer\n</th>\n<th scope=\"col\">Launch<br/>outcome\n</th>\n<th scope=\"col\"><a href=\"/wiki/Falcon_9_first-stage_landing_tests\" title=\"Falcon 9 first-stage landing tests\">Booster<br/>landing</a>\n</th></tr>\n```\n"
        },
        {
            "cell_type": "markdown",
            "metadata": {},
            "source": "Next, we just need to iterate through the `<th>` elements and apply the provided `extract_column_from_header()` to extract column name one by one\n"
        },
        {
            "cell_type": "code",
            "execution_count": 10,
            "metadata": {},
            "outputs": [],
            "source": "column_names = []\n\n# Apply find_all() function with `th` element on first_launch_table\n# Iterate each th element and apply the provided extract_column_from_header() to get a column name\n# Append the Non-empty column name (`if name is not None and len(name) > 0`) into a list called column_names\nfor element in first_launch_table.find_all('th'):\n    name = extract_column_from_header(element)\n    if name is not None and len(name) > 0:\n        column_names.append(name)"
        },
        {
            "cell_type": "markdown",
            "metadata": {},
            "source": "Check the extracted column names\n"
        },
        {
            "cell_type": "code",
            "execution_count": 11,
            "metadata": {},
            "outputs": [
                {
                    "name": "stdout",
                    "output_type": "stream",
                    "text": "['Flight No.', 'Date and time ( )', 'Launch site', 'Payload', 'Payload mass', 'Orbit', 'Customer', 'Launch outcome']\n"
                }
            ],
            "source": "print(column_names)"
        },
        {
            "cell_type": "markdown",
            "metadata": {},
            "source": "## TASK 3: Create a data frame by parsing the launch HTML tables\n"
        },
        {
            "cell_type": "markdown",
            "metadata": {},
            "source": "We will create an empty dictionary with keys from the extracted column names in the previous task. Later, this dictionary will be converted into a Pandas dataframe\n"
        },
        {
            "cell_type": "code",
            "execution_count": 12,
            "metadata": {},
            "outputs": [],
            "source": "launch_dict= dict.fromkeys(column_names)\n\n# Remove an irrelvant column\ndel launch_dict['Date and time ( )']\n\n# Let's initial the launch_dict with each value to be an empty list\nlaunch_dict['Flight No.'] = []\nlaunch_dict['Launch site'] = []\nlaunch_dict['Payload'] = []\nlaunch_dict['Payload mass'] = []\nlaunch_dict['Orbit'] = []\nlaunch_dict['Customer'] = []\nlaunch_dict['Launch outcome'] = []\n# Added some new columns\nlaunch_dict['Version Booster']=[]\nlaunch_dict['Booster landing']=[]\nlaunch_dict['Date']=[]\nlaunch_dict['Time']=[]"
        },
        {
            "cell_type": "markdown",
            "metadata": {},
            "source": "Next, we just need to fill up the `launch_dict` with launch records extracted from table rows.\n"
        },
        {
            "cell_type": "markdown",
            "metadata": {},
            "source": "Usually, HTML tables in Wiki pages are likely to contain unexpected annotations and other types of noises, such as reference links `B0004.1[8]`, missing values `N/A [e]`, inconsistent formatting, etc.\n"
        },
        {
            "cell_type": "markdown",
            "metadata": {},
            "source": "To simplify the parsing process, we have provided an incomplete code snippet below to help you to fill up the `launch_dict`. Please complete the following code snippet with TODOs or you can choose to write your own logic to parse all launch tables:\n"
        },
        {
            "cell_type": "code",
            "execution_count": 13,
            "metadata": {},
            "outputs": [
                {
                    "name": "stdout",
                    "output_type": "stream",
                    "text": "1\n<td><a href=\"/wiki/SpaceX\" title=\"SpaceX\">SpaceX</a>\n</td>\nSpaceX\n2\n<td><div class=\"plainlist\">\n<ul><li><a href=\"/wiki/NASA\" title=\"NASA\">NASA</a> (<a href=\"/wiki/Commercial_Orbital_Transportation_Services\" title=\"Commercial Orbital Transportation Services\">COTS</a>)</li>\n<li><a href=\"/wiki/National_Reconnaissance_Office\" title=\"National Reconnaissance Office\">NRO</a></li></ul>\n</div>\n</td>\nNASA\n3\n<td><a href=\"/wiki/NASA\" title=\"NASA\">NASA</a> (<a href=\"/wiki/Commercial_Orbital_Transportation_Services\" title=\"Commercial Orbital Transportation Services\">COTS</a>)\n</td>\nNASA\n4\n<td><a href=\"/wiki/NASA\" title=\"NASA\">NASA</a> (<a href=\"/wiki/Commercial_Resupply_Services\" title=\"Commercial Resupply Services\">CRS</a>)\n</td>\nNASA\n5\n<td><a href=\"/wiki/NASA\" title=\"NASA\">NASA</a> (<a href=\"/wiki/Commercial_Resupply_Services\" title=\"Commercial Resupply Services\">CRS</a>)\n</td>\nNASA\n6\n<td><a href=\"/wiki/Maxar_Technologies\" title=\"Maxar Technologies\">MDA</a>\n</td>\nMDA\n7\n<td><a href=\"/wiki/SES_S.A.\" title=\"SES S.A.\">SES</a>\n</td>\nSES\n8\n<td><a href=\"/wiki/Thaicom\" title=\"Thaicom\">Thaicom</a>\n</td>\nThaicom\n9\n<td><a href=\"/wiki/NASA\" title=\"NASA\">NASA</a> (<a href=\"/wiki/Commercial_Resupply_Services\" title=\"Commercial Resupply Services\">CRS</a>)\n</td>\nNASA\n10\n<td><a href=\"/wiki/Orbcomm\" title=\"Orbcomm\">Orbcomm</a>\n</td>\nOrbcomm\n11\n<td><a href=\"/wiki/AsiaSat\" title=\"AsiaSat\">AsiaSat</a>\n</td>\nAsiaSat\n12\n<td><a href=\"/wiki/AsiaSat\" title=\"AsiaSat\">AsiaSat</a>\n</td>\nAsiaSat\n13\n<td><a href=\"/wiki/NASA\" title=\"NASA\">NASA</a> (<a href=\"/wiki/Commercial_Resupply_Services\" title=\"Commercial Resupply Services\">CRS</a>)\n</td>\nNASA\n14\n<td><a href=\"/wiki/NASA\" title=\"NASA\">NASA</a> (<a href=\"/wiki/Commercial_Resupply_Services\" title=\"Commercial Resupply Services\">CRS</a>)\n</td>\nNASA\n15\n<td><div class=\"plainlist\">\n<ul><li><a href=\"/wiki/United_States_Air_Force\" title=\"United States Air Force\">USAF</a></li>\n<li><a href=\"/wiki/NASA\" title=\"NASA\">NASA</a></li>\n<li><a class=\"mw-redirect\" href=\"/wiki/NOAA\" title=\"NOAA\">NOAA</a></li></ul>\n</div>\n</td>\nUSAF\n16\n<td><div class=\"plainlist\">\n<ul><li><a class=\"mw-redirect\" href=\"/wiki/Asia_Broadcast_Satellite\" title=\"Asia Broadcast Satellite\">ABS</a></li>\n<li><a href=\"/wiki/Eutelsat\" title=\"Eutelsat\">Eutelsat</a></li></ul>\n</div>\n</td>\nABS\n17\n<td><a href=\"/wiki/NASA\" title=\"NASA\">NASA</a> (<a href=\"/wiki/Commercial_Resupply_Services\" title=\"Commercial Resupply Services\">CRS</a>)\n</td>\nNASA\n18\n<td><a href=\"/wiki/Turkmenistan_National_Space_Agency\" title=\"Turkmenistan National Space Agency\">Turkmenistan National<br/>Space Agency</a><sup class=\"reference\" id=\"cite_ref-95\"><a href=\"#cite_note-95\">[88]</a></sup>\n</td>\nNone\n19\n<td><a href=\"/wiki/NASA\" title=\"NASA\">NASA</a> (<a href=\"/wiki/Commercial_Resupply_Services\" title=\"Commercial Resupply Services\">CRS</a>)\n</td>\nNASA\n20\n<td><a href=\"/wiki/Orbcomm\" title=\"Orbcomm\">Orbcomm</a>\n</td>\nOrbcomm\n21\n<td><div class=\"plainlist\">\n<ul><li><a href=\"/wiki/NASA\" title=\"NASA\">NASA</a> (<a href=\"/wiki/Launch_Services_Program\" title=\"Launch Services Program\">LSP</a>)</li>\n<li><a class=\"mw-redirect\" href=\"/wiki/NOAA\" title=\"NOAA\">NOAA</a></li>\n<li><a href=\"/wiki/CNES\" title=\"CNES\">CNES</a></li></ul>\n</div>\n</td>\nNASA\n22\n<td><a href=\"/wiki/SES_S.A.\" title=\"SES S.A.\">SES</a>\n</td>\nSES\n23\n<td><a href=\"/wiki/NASA\" title=\"NASA\">NASA</a> (<a href=\"/wiki/Commercial_Resupply_Services\" title=\"Commercial Resupply Services\">CRS</a>)\n</td>\nNASA\n24\n<td><a href=\"/wiki/SKY_Perfect_JSAT\" title=\"SKY Perfect JSAT\">SKY Perfect JSAT Group</a>\n</td>\nSKY Perfect JSAT Group\n25\n<td><a href=\"/wiki/Thaicom\" title=\"Thaicom\">Thaicom</a>\n</td>\nThaicom\n26\n<td><div class=\"plainlist\">\n<ul><li><a class=\"mw-redirect\" href=\"/wiki/Asia_Broadcast_Satellite\" title=\"Asia Broadcast Satellite\">ABS</a></li>\n<li><a href=\"/wiki/Eutelsat\" title=\"Eutelsat\">Eutelsat</a></li></ul>\n</div>\n</td>\nABS\n27\n<td><a href=\"/wiki/NASA\" title=\"NASA\">NASA</a> (<a href=\"/wiki/Commercial_Resupply_Services\" title=\"Commercial Resupply Services\">CRS</a>)\n</td>\nNASA\n28\n<td><a class=\"mw-redirect\" href=\"/wiki/SKY_Perfect_JSAT_Group\" title=\"SKY Perfect JSAT Group\">SKY Perfect JSAT Group</a>\n</td>\nSKY Perfect JSAT Group\n29\n<td><a href=\"/wiki/Iridium_Communications\" title=\"Iridium Communications\">Iridium Communications</a>\n</td>\nIridium Communications\n30\n<td><a href=\"/wiki/NASA\" title=\"NASA\">NASA</a> (<a href=\"/wiki/Commercial_Resupply_Services\" title=\"Commercial Resupply Services\">CRS</a>)\n</td>\nNASA\n31\n<td><a href=\"/wiki/EchoStar\" title=\"EchoStar\">EchoStar</a>\n</td>\nEchoStar\n32\n<td><a href=\"/wiki/SES_S.A.\" title=\"SES S.A.\">SES</a>\n</td>\nSES\n33\n<td><a href=\"/wiki/National_Reconnaissance_Office\" title=\"National Reconnaissance Office\">NRO</a>\n</td>\nNRO\n34\n<td><a href=\"/wiki/Inmarsat\" title=\"Inmarsat\">Inmarsat</a>\n</td>\nInmarsat\n35\n<td><a href=\"/wiki/NASA\" title=\"NASA\">NASA</a> (<a href=\"/wiki/Commercial_Resupply_Services\" title=\"Commercial Resupply Services\">CRS</a>)\n</td>\nNASA\n36\n<td><a href=\"/wiki/Bulsatcom\" title=\"Bulsatcom\">Bulsatcom</a>\n</td>\nBulsatcom\n37\n<td><a href=\"/wiki/Iridium_Communications\" title=\"Iridium Communications\">Iridium Communications</a>\n</td>\nIridium Communications\n38\n<td><a href=\"/wiki/Intelsat\" title=\"Intelsat\">Intelsat</a>\n</td>\nIntelsat\n39\n<td><a href=\"/wiki/NASA\" title=\"NASA\">NASA</a> (<a href=\"/wiki/Commercial_Resupply_Services\" title=\"Commercial Resupply Services\">CRS</a>)\n</td>\nNASA\n40\n<td><a href=\"/wiki/National_Space_Organization\" title=\"National Space Organization\">NSPO</a>\n</td>\nNSPO\n41\n<td><a href=\"/wiki/United_States_Air_Force\" title=\"United States Air Force\">USAF</a>\n</td>\nUSAF\n42\n<td><a href=\"/wiki/Iridium_Communications\" title=\"Iridium Communications\">Iridium Communications</a>\n</td>\nIridium Communications\n43\n<td><div class=\"plainlist\">\n<ul><li><a href=\"/wiki/SES_S.A.\" title=\"SES S.A.\">SES S.A.</a></li>\n<li><a href=\"/wiki/EchoStar\" title=\"EchoStar\">EchoStar</a></li></ul>\n</div>\n</td>\nSES S.A.\n44\n<td><a href=\"/wiki/KT_Corporation\" title=\"KT Corporation\">KT Corporation</a>\n</td>\nKT Corporation\n45\n<td><a href=\"/wiki/NASA\" title=\"NASA\">NASA</a> (<a href=\"/wiki/Commercial_Resupply_Services\" title=\"Commercial Resupply Services\">CRS</a>)\n</td>\nNASA\n46\n<td><a href=\"/wiki/Iridium_Communications\" title=\"Iridium Communications\">Iridium Communications</a>\n</td>\nIridium Communications\n47\n<td><a href=\"/wiki/Northrop_Grumman\" title=\"Northrop Grumman\">Northrop Grumman</a> <sup class=\"reference\" id=\"cite_ref-249\"><a href=\"#cite_note-249\">[f]</a></sup><sup class=\"reference\" id=\"cite_ref-zuma_246-2\"><a href=\"#cite_note-zuma-246\">[238]</a></sup>\n</td>\nNorthrop Grumman\n48\n<td><a href=\"/wiki/SES_S.A.\" title=\"SES S.A.\">SES</a>\n</td>\nSES\n49\n<td><div class=\"plainlist\">\n<ul><li><a class=\"mw-redirect\" href=\"/wiki/Hisdesat\" title=\"Hisdesat\">Hisdesat</a></li>\n<li><a href=\"/wiki/ExactEarth\" title=\"ExactEarth\">exactEarth</a></li>\n<li><a href=\"/wiki/SpaceX\" title=\"SpaceX\">SpaceX</a></li></ul>\n</div>\n</td>\nHisdesat\n50\n<td><div class=\"plainlist\">\n<ul><li><a href=\"/wiki/Hispasat\" title=\"Hispasat\">Hispasat</a><sup class=\"reference\" id=\"cite_ref-spx20150914_286-1\"><a href=\"#cite_note-spx20150914-286\">[277]</a></sup></li>\n<li><a href=\"/wiki/NovaWurks\" title=\"NovaWurks\">NovaWurks</a></li></ul>\n</div>\n</td>\nHispasat\n51\n<td><a href=\"/wiki/Iridium_Communications\" title=\"Iridium Communications\">Iridium Communications</a>\n</td>\nIridium Communications\n52\n<td><a href=\"/wiki/NASA\" title=\"NASA\">NASA</a> (<a href=\"/wiki/Commercial_Resupply_Services\" title=\"Commercial Resupply Services\">CRS</a>)\n</td>\nNASA\n53\n<td><a href=\"/wiki/NASA\" title=\"NASA\">NASA</a> (<a href=\"/wiki/Launch_Services_Program\" title=\"Launch Services Program\">LSP</a>)\n</td>\nNASA\n54\n<td><a href=\"/wiki/Thales_Alenia_Space\" title=\"Thales Alenia Space\">Thales-Alenia</a> / <a href=\"/wiki/Bangladesh_Telecommunication_Regulatory_Commission\" title=\"Bangladesh Telecommunication Regulatory Commission\">BTRC</a>\n</td>\nThales-Alenia\n55\n<td><div class=\"plainlist\">\n<ul><li><a href=\"/wiki/Iridium_Communications\" title=\"Iridium Communications\">Iridium Communications</a></li>\n<li><a href=\"/wiki/GFZ_German_Research_Centre_for_Geosciences\" title=\"GFZ German Research Centre for Geosciences\">GFZ</a>\u00a0\u2022 <a href=\"/wiki/NASA\" title=\"NASA\">NASA</a></li></ul>\n</div>\n</td>\nIridium Communications\n56\n<td><a href=\"/wiki/SES_S.A.\" title=\"SES S.A.\">SES</a>\n</td>\nSES\n57\n<td><a href=\"/wiki/NASA\" title=\"NASA\">NASA</a> (<a href=\"/wiki/Commercial_Resupply_Services\" title=\"Commercial Resupply Services\">CRS</a>)\n</td>\nNASA\n58\n<td><a href=\"/wiki/Telesat\" title=\"Telesat\">Telesat</a>\n</td>\nTelesat\n59\n<td><a href=\"/wiki/Iridium_Communications\" title=\"Iridium Communications\">Iridium Communications</a>\n</td>\nIridium Communications\n60\n<td><a href=\"/wiki/Telkom_Indonesia\" title=\"Telkom Indonesia\">Telkom Indonesia</a>\n</td>\nTelkom Indonesia\n61\n<td><a href=\"/wiki/Telesat\" title=\"Telesat\">Telesat</a>\n</td>\nTelesat\n62\n<td><a href=\"/wiki/Comisi%C3%B3n_Nacional_de_Actividades_Espaciales\" title=\"Comisi\u00f3n Nacional de Actividades Espaciales\">CONAE</a>\n</td>\nCONAE\n63\n<td><a href=\"/wiki/Es%27hailSat\" title=\"Es'hailSat\">Es'hailSat</a>\n</td>\nEs'hailSat\n64\n<td><a href=\"/wiki/Spaceflight_Industries\" title=\"Spaceflight Industries\">Spaceflight Industries</a>\n</td>\nSpaceflight Industries\n65\n<td><a href=\"/wiki/NASA\" title=\"NASA\">NASA</a> (<a href=\"/wiki/Commercial_Resupply_Services\" title=\"Commercial Resupply Services\">CRS</a>)\n</td>\nNASA\n66\n<td><a href=\"/wiki/United_States_Air_Force\" title=\"United States Air Force\">USAF</a>\n</td>\nUSAF\n67\n<td><a href=\"/wiki/Iridium_Communications\" title=\"Iridium Communications\">Iridium Communications</a>\n</td>\nIridium Communications\n68\n<td><div class=\"plainlist\">\n<ul><li><a href=\"/wiki/PT_Pasifik_Satelit_Nusantara\" title=\"PT Pasifik Satelit Nusantara\">PSN</a></li>\n<li><a href=\"/wiki/SpaceIL\" title=\"SpaceIL\">SpaceIL</a> / <a href=\"/wiki/Israel_Aerospace_Industries\" title=\"Israel Aerospace Industries\">IAI</a></li>\n<li><a href=\"/wiki/Air_Force_Research_Laboratory\" title=\"Air Force Research Laboratory\">Air Force Research</a></li></ul>\n</div>\n</td>\nPSN\n69\n<td><span class=\"nowrap\"> <a href=\"/wiki/NASA\" title=\"NASA\">NASA</a> (<a class=\"mw-redirect\" href=\"/wiki/Commercial_Crew_Development\" title=\"Commercial Crew Development\">CCD</a>) </span>\n</td>\nNASA\n70\n<td><a href=\"/wiki/NASA\" title=\"NASA\">NASA</a> (<a href=\"/wiki/Commercial_Resupply_Services\" title=\"Commercial Resupply Services\">CRS</a>)\n</td>\nNASA\n71\n<td><a href=\"/wiki/SpaceX\" title=\"SpaceX\">SpaceX</a>\n</td>\nSpaceX\n72\n<td><a href=\"/wiki/Canadian_Space_Agency\" title=\"Canadian Space Agency\">Canadian Space Agency</a> (CSA)\n</td>\nCanadian Space Agency\n73\n<td><a href=\"/wiki/NASA\" title=\"NASA\">NASA</a> (<a href=\"/wiki/Commercial_Resupply_Services\" title=\"Commercial Resupply Services\">CRS</a>)\n</td>\nNASA\n74\n<td><a href=\"/wiki/Spacecom\" title=\"Spacecom\">Spacecom</a>\n</td>\nSpacecom\n75\n<td><a href=\"/wiki/Spacecom\" title=\"Spacecom\">SpaceX</a>\n</td>\nSpaceX\n76\n<td><a href=\"/wiki/NASA\" title=\"NASA\">NASA</a> (<a href=\"/wiki/Commercial_Resupply_Services\" title=\"Commercial Resupply Services\">CRS</a>)\n</td>\nNASA\n77\n<td><a class=\"mw-redirect\" href=\"/wiki/SKY_Perfect_JSAT_Group\" title=\"SKY Perfect JSAT Group\">Sky Perfect JSAT</a><br/><a href=\"/wiki/Kacific_Broadband_Satellites\" title=\"Kacific Broadband Satellites\">Kacific 1</a>\n</td>\nSky Perfect JSAT\n78\n<td><a href=\"/wiki/SpaceX\" title=\"SpaceX\">SpaceX</a>\n</td>\nSpaceX\n79\n<td><a href=\"/wiki/NASA\" title=\"NASA\">NASA</a> (<a class=\"mw-redirect\" href=\"/wiki/ISS_Crew_Transportation_Services\" title=\"ISS Crew Transportation Services\">CTS</a>)<sup class=\"reference\" id=\"cite_ref-CCD6_509-0\"><a href=\"#cite_note-CCD6-509\">[497]</a></sup>\n</td>\nNASA\n80\n<td><a href=\"/wiki/SpaceX\" title=\"SpaceX\">SpaceX</a>\n</td>\nSpaceX\n81\n<td><a href=\"/wiki/SpaceX\" title=\"SpaceX\">SpaceX</a>\n</td>\nSpaceX\n82\n<td><a href=\"/wiki/NASA\" title=\"NASA\">NASA</a> (<a href=\"/wiki/Commercial_Resupply_Services\" title=\"Commercial Resupply Services\">CRS</a>)\n</td>\nNASA\n83\n<td><a href=\"/wiki/SpaceX\" title=\"SpaceX\">SpaceX</a>\n</td>\nSpaceX\n84\n<td><a href=\"/wiki/SpaceX\" title=\"SpaceX\">SpaceX</a>\n</td>\nSpaceX\n85\n<td><a href=\"/wiki/NASA\" title=\"NASA\">NASA</a> (<a class=\"mw-redirect\" href=\"/wiki/Commercial_Crew_Development\" title=\"Commercial Crew Development\">CCDev</a>)\n</td>\nNASA\n86\n<td><a href=\"/wiki/SpaceX\" title=\"SpaceX\">SpaceX</a>\n</td>\nSpaceX\n87\n<td><a href=\"/wiki/SpaceX\" title=\"SpaceX\">SpaceX</a><br/><a href=\"/wiki/Planet_Labs\" title=\"Planet Labs\">Planet Labs</a>\n</td>\nSpaceX\n88\n<td><a href=\"/wiki/United_States_Space_Force\" title=\"United States Space Force\">U.S. Space Force</a><sup class=\"reference\" id=\"cite_ref-clark-20200630_542-1\"><a href=\"#cite_note-clark-20200630-542\">[530]</a></sup>\n</td>\nU.S. Space Force\n89\n<td><a href=\"/wiki/Republic_of_Korea_Army\" title=\"Republic of Korea Army\">Republic of Korea Army</a>\n</td>\nRepublic of Korea Army\n90\n<td><a href=\"/wiki/SpaceX\" title=\"SpaceX\">SpaceX</a><br/><a href=\"/wiki/Spaceflight_Industries\" title=\"Spaceflight Industries\">Spaceflight Industries</a> (BlackSky)\n</td>\nSpaceX\n91\n<td><a href=\"/wiki/SpaceX\" title=\"SpaceX\">SpaceX</a><br/><a href=\"/wiki/Planet_Labs\" title=\"Planet Labs\">Planet Labs</a>\n</td>\nSpaceX\n92\n<td><a class=\"mw-redirect\" href=\"/wiki/CONAE\" title=\"CONAE\">CONAE</a><br/><a class=\"new\" href=\"/w/index.php?title=PlanetIQ&amp;action=edit&amp;redlink=1\" title=\"PlanetIQ (page does not exist)\">PlanetIQ</a><br/><a href=\"/wiki/Tyvak\" title=\"Tyvak\">Tyvak</a>\n</td>\nCONAE\n93\n<td><a href=\"/wiki/SpaceX\" title=\"SpaceX\">SpaceX</a>\n</td>\nSpaceX\n94\n<td><a href=\"/wiki/SpaceX\" title=\"SpaceX\">SpaceX</a>\n</td>\nSpaceX\n95\n<td><a href=\"/wiki/SpaceX\" title=\"SpaceX\">SpaceX</a>\n</td>\nSpaceX\n96\n<td><a href=\"/wiki/SpaceX\" title=\"SpaceX\">SpaceX</a>\n</td>\nSpaceX\n97\n<td><a href=\"/wiki/United_States_Space_Force\" title=\"United States Space Force\">USSF</a>\n</td>\nUSSF\n98\n<td><a href=\"/wiki/NASA\" title=\"NASA\">NASA</a> (<a href=\"/wiki/Commercial_Crew_Program\" title=\"Commercial Crew Program\">CCP</a>)<sup class=\"reference\" id=\"cite_ref-CCD6_509-1\"><a href=\"#cite_note-CCD6-509\">[497]</a></sup>\n</td>\nNASA\n99\n<td><a href=\"/wiki/NASA\" title=\"NASA\">NASA</a> / <a class=\"mw-redirect\" href=\"/wiki/NOAA\" title=\"NOAA\">NOAA</a> / <a class=\"mw-redirect\" href=\"/wiki/ESA\" title=\"ESA\">ESA</a> / <a class=\"mw-redirect\" href=\"/wiki/EUMETSAT\" title=\"EUMETSAT\">EUMETSAT</a>\n</td>\nNASA\n100\n<td><a href=\"/wiki/SpaceX\" title=\"SpaceX\">SpaceX</a>\n</td>\nSpaceX\n101\n<td><a href=\"/wiki/NASA\" title=\"NASA\">NASA</a> (<a href=\"/wiki/Commercial_Resupply_Services\" title=\"Commercial Resupply Services\">CRS</a>)\n</td>\nNASA\n102\n<td><a href=\"/wiki/Sirius_XM\" title=\"Sirius XM\">Sirius XM</a>\n</td>\nSirius XM\n103\n<td><a href=\"/wiki/National_Reconnaissance_Office\" title=\"National Reconnaissance Office\">NRO</a>\n</td>\nNRO\n104\n<td><a href=\"/wiki/T%C3%BCrksat_(company)\" title=\"T\u00fcrksat (company)\">T\u00fcrksat</a>\n</td>\nT\u00fcrksat\n105\n<td><a href=\"/wiki/SpaceX\" title=\"SpaceX\">SpaceX</a>\n</td>\nSpaceX\n106\n<td>Various\n</td>\nVarious\n\n107\n<td><a href=\"/wiki/SpaceX\" title=\"SpaceX\">SpaceX</a>\n</td>\nSpaceX\n108\n<td><a href=\"/wiki/SpaceX\" title=\"SpaceX\">SpaceX</a>\n</td>\nSpaceX\n109\n<td><a href=\"/wiki/SpaceX\" title=\"SpaceX\">SpaceX</a>\n</td>\nSpaceX\n110\n<td><a href=\"/wiki/SpaceX\" title=\"SpaceX\">SpaceX</a>\n</td>\nSpaceX\n111\n<td><a href=\"/wiki/SpaceX\" title=\"SpaceX\">SpaceX</a>\n</td>\nSpaceX\n112\n<td><a href=\"/wiki/SpaceX\" title=\"SpaceX\">SpaceX</a>\n</td>\nSpaceX\n113\n<td><a href=\"/wiki/SpaceX\" title=\"SpaceX\">SpaceX</a>\n</td>\nSpaceX\n114\n<td><a href=\"/wiki/NASA\" title=\"NASA\">NASA</a> (<a class=\"mw-redirect\" href=\"/wiki/ISS_Crew_Transportation_Services\" title=\"ISS Crew Transportation Services\">CTS</a>)<sup class=\"reference\" id=\"cite_ref-CCD6_509-2\"><a href=\"#cite_note-CCD6-509\">[497]</a></sup>\n</td>\nNASA\n115\n<td><a href=\"/wiki/SpaceX\" title=\"SpaceX\">SpaceX</a>\n</td>\nSpaceX\n116\n<td><a href=\"/wiki/SpaceX\" title=\"SpaceX\">SpaceX</a>\n</td>\nSpaceX\n117\n<td><a href=\"/wiki/SpaceX\" title=\"SpaceX\">SpaceX</a>\n</td>\nSpaceX\n118\n<td><a href=\"/wiki/SpaceX\" title=\"SpaceX\">SpaceX</a><br/> <a href=\"/wiki/Capella_Space\" title=\"Capella Space\">Capella Space</a> and <a href=\"/wiki/Tyvak\" title=\"Tyvak\">Tyvak</a>\n</td>\nSpaceX\n119\n<td><a href=\"/wiki/SpaceX\" title=\"SpaceX\">SpaceX</a>\n</td>\nSpaceX\n120\n<td><a href=\"/wiki/NASA\" title=\"NASA\">NASA</a> (<a href=\"/wiki/Commercial_Resupply_Services\" title=\"Commercial Resupply Services\">CRS</a>)\n</td>\nNASA\n121\n<td><a href=\"/wiki/Sirius_XM\" title=\"Sirius XM\">Sirius XM</a>\n</td>\nSirius XM\n"
                }
            ],
            "source": "extracted_row = 0\n#Extract each table \nfor table_number,table in enumerate(soup.find_all('table',\"wikitable plainrowheaders collapsible\")):\n   # get table row \n    for rows in table.find_all(\"tr\"):\n        #check to see if first table heading is as number corresponding to launch a number \n        if rows.th:\n            if rows.th.string:\n                flight_number=rows.th.string.strip()\n                flag=flight_number.isdigit()\n        else:\n            flag=False\n        #get table element \n        row=rows.find_all('td')\n        #if it is number save cells in a dictonary \n        if flag:\n            extracted_row += 1\n            # Flight Number value\n            # TODO: Append the flight_number into launch_dict with key `Flight No.`\n            launch_dict['Flight No.'].append(flight_number)\n            print(flight_number)\n            datatimelist=date_time(row[0])\n            \n            # Date value\n            # TODO: Append the date into launch_dict with key `Date`\n            date = datatimelist[0].strip(',')\n            launch_dict['Date'].append(date)\n            #print(date)\n            \n            # Time value\n            # TODO: Append the time into launch_dict with key `Time`\n            time = datatimelist[1]\n            launch_dict['Time'].append(time)\n            #print(time)\n              \n            # Booster version\n            # TODO: Append the bv into launch_dict with key `Version Booster`\n            bv=booster_version(row[1])\n            if not(bv):\n                bv=row[1].a.string\n            launch_dict['Version Booster'].append(bv)\n            #print(bv)\n            \n            # Launch Site\n            # TODO: Append the bv into launch_dict with key `Launch Site`\n            launch_site = row[2].a.string\n            launch_dict['Launch site'].append(launch_site)\n            #print(launch_site)\n            \n            # Payload\n            # TODO: Append the payload into launch_dict with key `Payload`\n            payload = row[3].a.string\n            launch_dict['Payload'].append(payload)\n            #print(payload)\n            \n            # Payload Mass\n            # TODO: Append the payload_mass into launch_dict with key `Payload mass`\n            payload_mass = get_mass(row[4])\n            launch_dict['Payload mass'].append(payload_mass)\n            #print(payload_mass)\n            \n            # Orbit\n            # TODO: Append the orbit into launch_dict with key `Orbit`\n            orbit = row[5].a.string\n            launch_dict['Orbit'].append(orbit)\n            #print(orbit)\n            \n            # Customer\n            # TODO: Append the customer into launch_dict with key `Customer`\n            print(row[6])\n            customer = row[6].a\n            if not(customer):\n                customer = row[6].string\n            else:\n                customer = row[6].a.string\n                \n            launch_dict['Customer'].append(customer)\n            print(customer)\n            \n            # Launch outcome\n            # TODO: Append the launch_outcome into launch_dict with key `Launch outcome`\n            launch_outcome = list(row[7].strings)[0]\n            launch_dict['Launch outcome'].append(launch_outcome)\n            #print(launch_outcome)\n            \n            # Booster landing\n            # TODO: Append the launch_outcome into launch_dict with key `Booster landing`\n            booster_landing = landing_status(row[8])\n            launch_dict['Booster landing'].append(booster_landing)\n            #print(booster_landing)\n            "
        },
        {
            "cell_type": "markdown",
            "metadata": {},
            "source": "After you have fill in the parsed launch record values into `launch_dict`, you can create a dataframe from it.\n"
        },
        {
            "cell_type": "code",
            "execution_count": 14,
            "metadata": {},
            "outputs": [
                {
                    "data": {
                        "text/html": "<div>\n<style scoped>\n    .dataframe tbody tr th:only-of-type {\n        vertical-align: middle;\n    }\n\n    .dataframe tbody tr th {\n        vertical-align: top;\n    }\n\n    .dataframe thead th {\n        text-align: right;\n    }\n</style>\n<table border=\"1\" class=\"dataframe\">\n  <thead>\n    <tr style=\"text-align: right;\">\n      <th></th>\n      <th>Flight No.</th>\n      <th>Launch site</th>\n      <th>Payload</th>\n      <th>Payload mass</th>\n      <th>Orbit</th>\n      <th>Customer</th>\n      <th>Launch outcome</th>\n      <th>Version Booster</th>\n      <th>Booster landing</th>\n      <th>Date</th>\n      <th>Time</th>\n    </tr>\n  </thead>\n  <tbody>\n    <tr>\n      <th>0</th>\n      <td>1</td>\n      <td>CCAFS</td>\n      <td>Dragon Spacecraft Qualification Unit</td>\n      <td>0</td>\n      <td>LEO</td>\n      <td>SpaceX</td>\n      <td>Success\\n</td>\n      <td>F9 v1.0B0003.1</td>\n      <td>Failure</td>\n      <td>4 June 2010</td>\n      <td>18:45</td>\n    </tr>\n    <tr>\n      <th>1</th>\n      <td>2</td>\n      <td>CCAFS</td>\n      <td>Dragon</td>\n      <td>0</td>\n      <td>LEO</td>\n      <td>NASA</td>\n      <td>Success</td>\n      <td>F9 v1.0B0004.1</td>\n      <td>Failure</td>\n      <td>8 December 2010</td>\n      <td>15:43</td>\n    </tr>\n    <tr>\n      <th>2</th>\n      <td>3</td>\n      <td>CCAFS</td>\n      <td>Dragon</td>\n      <td>525 kg</td>\n      <td>LEO</td>\n      <td>NASA</td>\n      <td>Success</td>\n      <td>F9 v1.0B0005.1</td>\n      <td>No attempt\\n</td>\n      <td>22 May 2012</td>\n      <td>07:44</td>\n    </tr>\n    <tr>\n      <th>3</th>\n      <td>4</td>\n      <td>CCAFS</td>\n      <td>SpaceX CRS-1</td>\n      <td>4,700 kg</td>\n      <td>LEO</td>\n      <td>NASA</td>\n      <td>Success\\n</td>\n      <td>F9 v1.0B0006.1</td>\n      <td>No attempt</td>\n      <td>8 October 2012</td>\n      <td>00:35</td>\n    </tr>\n    <tr>\n      <th>4</th>\n      <td>5</td>\n      <td>CCAFS</td>\n      <td>SpaceX CRS-2</td>\n      <td>4,877 kg</td>\n      <td>LEO</td>\n      <td>NASA</td>\n      <td>Success\\n</td>\n      <td>F9 v1.0B0007.1</td>\n      <td>No attempt\\n</td>\n      <td>1 March 2013</td>\n      <td>15:10</td>\n    </tr>\n  </tbody>\n</table>\n</div>",
                        "text/plain": "  Flight No. Launch site                               Payload Payload mass  \\\n0          1       CCAFS  Dragon Spacecraft Qualification Unit            0   \n1          2       CCAFS                                Dragon            0   \n2          3       CCAFS                                Dragon       525 kg   \n3          4       CCAFS                          SpaceX CRS-1     4,700 kg   \n4          5       CCAFS                          SpaceX CRS-2     4,877 kg   \n\n  Orbit Customer Launch outcome Version Booster Booster landing  \\\n0   LEO   SpaceX      Success\\n  F9 v1.0B0003.1         Failure   \n1   LEO     NASA        Success  F9 v1.0B0004.1         Failure   \n2   LEO     NASA        Success  F9 v1.0B0005.1    No attempt\\n   \n3   LEO     NASA      Success\\n  F9 v1.0B0006.1      No attempt   \n4   LEO     NASA      Success\\n  F9 v1.0B0007.1    No attempt\\n   \n\n              Date   Time  \n0      4 June 2010  18:45  \n1  8 December 2010  15:43  \n2      22 May 2012  07:44  \n3   8 October 2012  00:35  \n4     1 March 2013  15:10  "
                    },
                    "execution_count": 14,
                    "metadata": {},
                    "output_type": "execute_result"
                }
            ],
            "source": "df=pd.DataFrame(launch_dict)\ndf.head()"
        },
        {
            "cell_type": "markdown",
            "metadata": {},
            "source": "We can now export it to a <b>CSV</b> for the next section, but to make the answers consistent and in case you have difficulties finishing this lab.\n\nFollowing labs will be using a provided dataset to make each lab independent.\n"
        },
        {
            "cell_type": "markdown",
            "metadata": {},
            "source": "<code>df.to_csv('spacex_web_scraped.csv', index=False)</code>\n"
        },
        {
            "cell_type": "markdown",
            "metadata": {},
            "source": "## Authors\n"
        },
        {
            "cell_type": "markdown",
            "metadata": {},
            "source": "<a href=\"https://www.linkedin.com/in/yan-luo-96288783/?utm_medium=Exinfluencer&utm_source=Exinfluencer&utm_content=000026UJ&utm_term=10006555&utm_id=NA-SkillsNetwork-Channel-SkillsNetworkCoursesIBMDS0321ENSkillsNetwork26802033-2021-01-01\">Yan Luo</a>\n"
        },
        {
            "cell_type": "markdown",
            "metadata": {},
            "source": "<a href=\"https://www.linkedin.com/in/nayefaboutayoun/?utm_medium=Exinfluencer&utm_source=Exinfluencer&utm_content=000026UJ&utm_term=10006555&utm_id=NA-SkillsNetwork-Channel-SkillsNetworkCoursesIBMDS0321ENSkillsNetwork26802033-2021-01-01\">Nayef Abou Tayoun</a>\n"
        },
        {
            "cell_type": "markdown",
            "metadata": {},
            "source": "## Change Log\n"
        },
        {
            "cell_type": "markdown",
            "metadata": {},
            "source": "| Date (YYYY-MM-DD) | Version | Changed By | Change Description          |\n| ----------------- | ------- | ---------- | --------------------------- |\n| 2021-06-09        | 1.0     | Yan Luo    | Tasks updates               |\n| 2020-11-10        | 1.0     | Nayef      | Created the initial version |\n"
        },
        {
            "cell_type": "markdown",
            "metadata": {},
            "source": "Copyright \u00a9 2021 IBM Corporation. All rights reserved.\n"
        }
    ],
    "metadata": {
        "kernelspec": {
            "display_name": "Python 3.9",
            "language": "python",
            "name": "python3"
        },
        "language_info": {
            "codemirror_mode": {
                "name": "ipython",
                "version": 3
            },
            "file_extension": ".py",
            "mimetype": "text/x-python",
            "name": "python",
            "nbconvert_exporter": "python",
            "pygments_lexer": "ipython3",
            "version": "3.9.7"
        }
    },
    "nbformat": 4,
    "nbformat_minor": 4
}